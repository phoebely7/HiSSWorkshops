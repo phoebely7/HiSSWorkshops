{
 "cells": [
  {
   "cell_type": "code",
   "execution_count": null,
   "metadata": {},
   "outputs": [],
   "source": [
    "# Using a hashtag (#) leaves a comment\n",
    "# These will not run, so you can leave little notes for yourself or others"
   ]
  },
  {
   "cell_type": "code",
   "execution_count": 6,
   "metadata": {},
   "outputs": [],
   "source": [
    "# Text Data Types (Strings)\n",
    "my_word = 'This is a word'\n",
    "my_word2 = \"This is a also a word\""
   ]
  },
  {
   "cell_type": "code",
   "execution_count": null,
   "metadata": {},
   "outputs": [],
   "source": [
    "# Numeric Data Types \n",
    "my_integer = 1\n",
    "my_negative_int = -1\n",
    "my_decimal = 1.0"
   ]
  },
  {
   "cell_type": "code",
   "execution_count": null,
   "metadata": {},
   "outputs": [],
   "source": [
    "# Boolean Data Types (True or False)\n",
    "this_is_true = True\n",
    "this_is_false = False\n",
    "this_is_also_false = 0"
   ]
  },
  {
   "cell_type": "code",
   "execution_count": 2,
   "metadata": {},
   "outputs": [],
   "source": [
    "# Basic Math Operators: Return a Number\n",
    "add = 1 + 2\n",
    "sub = 2 - 1\n",
    "mult = 3 * 2\n",
    "div = 4 / 2\n",
    "power = 2**2\n",
    "mod = 11 % 3"
   ]
  },
  {
   "cell_type": "code",
   "execution_count": 7,
   "metadata": {},
   "outputs": [
    {
     "name": "stdout",
     "output_type": "stream",
     "text": [
      "This is a word\n",
      "3\n",
      "1\n",
      "6\n"
     ]
    }
   ],
   "source": [
    "# Call print() to see your output to the command line\n",
    "print(my_word)\n",
    "print(add)\n",
    "print(sub)\n",
    "print(mult)"
   ]
  },
  {
   "cell_type": "code",
   "execution_count": null,
   "metadata": {},
   "outputs": [],
   "source": [
    "# Add two variables and store it another variable"
   ]
  },
  {
   "cell_type": "code",
   "execution_count": null,
   "metadata": {},
   "outputs": [],
   "source": [
    "# Try add a String and a Number"
   ]
  },
  {
   "cell_type": "code",
   "execution_count": null,
   "metadata": {},
   "outputs": [],
   "source": [
    "# Try adding a Bool and a Number"
   ]
  },
  {
   "cell_type": "code",
   "execution_count": null,
   "metadata": {},
   "outputs": [],
   "source": [
    "# Get input from the user using input() \n",
    "user_number = int(input())"
   ]
  },
  {
   "cell_type": "code",
   "execution_count": null,
   "metadata": {},
   "outputs": [],
   "source": [
    "# Comparison Operators: Return either True or False\n",
    "greater = 50 > 2\n",
    "less = 2 < 50\n",
    "greater_eq = 2 >= 2\n",
    "less_eq = 3 <= 5\n",
    "\n",
    "# '=' is assignment, '==' is for checking equality\n",
    "equal = 0 == 0 "
   ]
  },
  {
   "cell_type": "code",
   "execution_count": null,
   "metadata": {},
   "outputs": [],
   "source": [
    "# Use if statements when you only want code to run under a certain condition\n",
    "if user_number < 0:\n",
    "    print(\"You entered a negative number\")"
   ]
  },
  {
   "cell_type": "code",
   "execution_count": null,
   "metadata": {},
   "outputs": [],
   "source": [
    "# Use else statements to handle the alternative case\n",
    "if user_number < 0:\n",
    "    print(\"You entered a negative number\")\n",
    "else:\n",
    "    print(\"You didn't enter a negative number\")"
   ]
  },
  {
   "cell_type": "code",
   "execution_count": null,
   "metadata": {},
   "outputs": [],
   "source": [
    "# Use else-if (elif) to handle multiple alternatives\n",
    "if user_number < 0:\n",
    "    print(\"You entered a negative number\")\n",
    "elif user_number == 0:\n",
    "    print(\"You entered Zero\")\n",
    "else:\n",
    "    print(\"You didn't enter a negative number\")"
   ]
  },
  {
   "cell_type": "code",
   "execution_count": null,
   "metadata": {},
   "outputs": [],
   "source": [
    "# Exercise: Make a code chunk that only runs if the input is greater than 50"
   ]
  },
  {
   "cell_type": "code",
   "execution_count": null,
   "metadata": {},
   "outputs": [],
   "source": []
  }
 ],
 "metadata": {
  "kernelspec": {
   "display_name": "Python 3",
   "language": "python",
   "name": "python3"
  },
  "language_info": {
   "codemirror_mode": {
    "name": "ipython",
    "version": 3
   },
   "file_extension": ".py",
   "mimetype": "text/x-python",
   "name": "python",
   "nbconvert_exporter": "python",
   "pygments_lexer": "ipython3",
   "version": "3.7.4"
  }
 },
 "nbformat": 4,
 "nbformat_minor": 2
}
